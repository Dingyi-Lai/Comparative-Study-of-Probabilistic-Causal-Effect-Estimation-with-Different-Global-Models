{
 "cells": [
  {
   "cell_type": "code",
   "execution_count": null,
   "metadata": {},
   "outputs": [],
   "source": [
    "import pandas as pd\n",
    "quantile_range = [0.1,0.5,0.9]\n",
    "model_identifier = 'callsMT215_without_stl_LSTMcell_cocob_without_stl_decomposition'"
   ]
  },
  {
   "cell_type": "code",
   "execution_count": null,
   "metadata": {},
   "outputs": [],
   "source": [
    "ensembled_forecasts = {}\n",
    "for q in quantile_range:\n",
    "    ensembled_forecasts[q] = pd.read_csv('./results/nn_model_results/rnn/forecasts/' +\\\n",
    "                                            model_identifier + \"_\" + str(q) +\".txt\",header=None)\n"
   ]
  },
  {
   "cell_type": "code",
   "execution_count": null,
   "metadata": {},
   "outputs": [],
   "source": [
    "evaluate_args = ['./results/nn_model_results/rnn/ensemble_forecasts/',\n",
    "                   './results/nn_model_results/rnn/ensemble_errors/',\n",
    "                   './results/nn_model_results/rnn/processed_ensemble_forecasts/',\n",
    "                   model_identifier,\n",
    "                   'datasets/text_data/EMS-MC/moving_window/without_stl_decomposition/callsMT2_test_7i15.txt',\n",
    "                   'datasets/text_data/EMS-MC/callsMT2_results.txt',\n",
    "                   'datasets/text_data/EMS-MC/callsMT2_dataset.txt',\n",
    "                   16,\n",
    "                   7,\n",
    "                   0,\n",
    "                   0,\n",
    "                   0,\n",
    "                   12,\n",
    "                   1]"
   ]
  },
  {
   "cell_type": "code",
   "execution_count": null,
   "metadata": {},
   "outputs": [],
   "source": []
  }
 ],
 "metadata": {
  "language_info": {
   "name": "python"
  }
 },
 "nbformat": 4,
 "nbformat_minor": 2
}
